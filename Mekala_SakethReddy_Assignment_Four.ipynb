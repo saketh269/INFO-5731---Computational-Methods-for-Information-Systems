{
  "cells": [
    {
      "cell_type": "markdown",
      "metadata": {
        "id": "view-in-github",
        "colab_type": "text"
      },
      "source": [
        "<a href=\"https://colab.research.google.com/github/saketh269/INFO-5731---Computational-Methods-for-Information-Systems/blob/main/Mekala_SakethReddy_Assignment_Four.ipynb\" target=\"_parent\"><img src=\"https://colab.research.google.com/assets/colab-badge.svg\" alt=\"Open In Colab\"/></a>"
      ]
    },
    {
      "cell_type": "markdown",
      "metadata": {
        "id": "USSdXHuqnwv9"
      },
      "source": [
        "# **INFO5731 Assignment Four**\n",
        "\n",
        "In this assignment, you are required to conduct topic modeling, sentiment analysis based on **the dataset you created from assignment three**."
      ]
    },
    {
      "cell_type": "markdown",
      "metadata": {
        "id": "YWxodXh5n4xF"
      },
      "source": [
        "# **Question 1: Topic Modeling**"
      ]
    },
    {
      "cell_type": "markdown",
      "metadata": {
        "id": "TenBkDJ5n95k"
      },
      "source": [
        "(30 points). This question is designed to help you develop a feel for the way topic modeling works, the connection to the human meanings of documents. Based on the dataset from assignment three, write a python program to **identify the top 10 topics in the dataset**. Before answering this question, please review the materials in lesson 8, especially the code for LDA, LSA, and BERTopic. The following information should be reported:\n",
        "\n",
        "1. Features (text representation) used for topic modeling.\n",
        "\n",
        "2. Top 10 clusters for topic modeling.\n",
        "\n",
        "3. Summarize and describe the topic for each cluster.\n"
      ]
    },
    {
      "cell_type": "code",
      "source": [
        "import pandas as pd\n",
        "from sklearn.feature_extraction.text import CountVectorizer\n",
        "from sklearn.decomposition import LatentDirichletAllocation\n",
        "\n",
        "# Load the dataset\n",
        "df = pd.read_csv('sentimental_reviews.csv')\n",
        "\n",
        "# Preprocess the text data (replace 'text_column' with the name of your text column)\n",
        "text_data = df['Review Title'].tolist()\n",
        "\n",
        "# Create a CountVectorizer to convert text data to a matrix of token counts\n",
        "vectorizer = CountVectorizer(max_df=0.95, min_df=2, stop_words='english')\n",
        "X = vectorizer.fit_transform(text_data)\n",
        "\n",
        "# Define the number of topics\n",
        "num_topics = 10\n",
        "\n",
        "# Apply LDA\n",
        "lda_model = LatentDirichletAllocation(n_components=num_topics, max_iter=10, learning_method='online', random_state=42)\n",
        "lda_model.fit(X)\n",
        "\n",
        "# Get the top words for each topic\n",
        "feature_names = vectorizer.get_feature_names_out()\n",
        "top_words = 10\n",
        "topic_keywords = {}\n",
        "for topic_idx, topic in enumerate(lda_model.components_):\n",
        "    top_indices = topic.argsort()[:-top_words - 1:-1]\n",
        "    topic_keywords[topic_idx] = [feature_names[i] for i in top_indices]\n",
        "\n",
        "# Print the features (text representation) used for topic modeling\n",
        "print(\"Features (text representation) used for topic modeling:\")\n",
        "print(\", \".join(feature_names))\n",
        "print()\n",
        "\n",
        "# Print the top 10 clusters and their summaries\n",
        "for topic_idx, keywords in topic_keywords.items():\n",
        "    print(f\"Cluster {topic_idx + 1}:\")\n",
        "    print(\"Keywords:\", ', '.join(keywords))\n",
        "    # Generate a summary or description for each cluster based on the top keywords\n",
        "    summary = \"\"\n",
        "    if \"overrated\" in keywords or \"complicated\" in keywords:\n",
        "        summary += \"This topic seems to explore critical or mixed sentiments regarding certain aspects of the data. \"\n",
        "    elif \"masterpiece\" in keywords or \"exceptional\" in keywords:\n",
        "        summary += \"This topic appears to represent overwhelmingly positive sentiments towards specific films or cinematic experiences. \"\n",
        "    else:\n",
        "        summary += \"This cluster's topic is not explicitly clear. \"\n",
        "\n",
        "    # Add more specific descriptions based on other keywords or patterns in the cluster\n",
        "    if \"Oppenheimer\" in keywords:\n",
        "        summary += \"Keywords such as 'Oppenheimer' alongside other terms suggest discussions related to historical or scientific themes, possibly critiquing certain portrayals or interpretations.\"\n",
        "\n",
        "    print(\"Description:\", summary)\n",
        "    print()\n",
        "\n",
        "# If you have the human-meaningful documents, you can also use them to further interpret the clusters.\n"
      ],
      "metadata": {
        "colab": {
          "base_uri": "https://localhost:8080/"
        },
        "id": "ZP9s42vgxM3d",
        "outputId": "8007bc26-612e-4511-a072-60836e93dfea"
      },
      "execution_count": null,
      "outputs": [
        {
          "output_type": "stream",
          "name": "stdout",
          "text": [
            "Features (text representation) used for topic modeling:\n",
            "10, 2023, absolute, absolutely, academy, accurate, achievement, acted, acting, action, actors, amazing, american, art, artistic, astonishing, astounding, atomic, attention, audience, awards, away, awe, awesome, background, bad, bag, beautiful, believe, best, better, bio, biography, biopic, biopics, bit, blast, bleak, blown, board, bomb, bombastic, bombs, boom, bore, bored, boring, box, breathtaking, brilliance, brilliant, brilliantly, captivating, cast, cgi, chain, challenging, changed, character, chilling, chris, christopher, cillian, cinema, cinematic, classic, come, compelling, complex, complicated, concept, confusing, courtroom, crafted, create, created, cuts, dark, date, day, days, deadly, death, decade, decent, definitely, delivered, delivers, deserves, deserving, destroy, destroyer, dialogue, did, didn, different, direction, disappointed, disappointing, disappointment, discovery, documentary, does, doesn, don, downey, downside, drama, dream, dud, dull, dutch, editing, effects, emotionally, end, ending, engaged, entertainment, entire, epic, event, excellence, excellent, exceptional, exciting, exhausting, expectations, expected, expensive, experience, explosion, explosive, extra, extraordinary, extremely, eyes, fail, fails, fall, falls, fan, fans, fantastic, far, fast, father, fear, feel, feels, film, filmmaking, films, finally, fine, flawed, flaws, forever, form, future, game, gem, generation, genius, gets, gives, god, goes, going, gonna, good, got, government, grand, great, greatest, greatness, gripping, guilt, hand, hard, haunting, heart, hero, high, highly, historical, historically, history, hit, hollywood, honest, hour, hours, hr, human, humanity, hype, imax, important, impressive, incredible, inspiring, intellectual, intense, interesting, intriguing, isn, issues, jewel, journey, jr, jumbled, just, keeps, kept, kind, know, lacks, lead, legend, lengthy, lens, lesson, let, life, like, list, little, live, ll, long, look, lot, loud, love, loved, magnificent, magnum, make, makes, making, man, master, masterclass, masterful, masterpiece, mature, maybe, meets, meh, men, mess, message, mile, mind, minor, minutes, miss, missed, misses, mixed, modern, movie, movies, mr, multiple, murphy, music, nail, near, need, needed, needs, new, nolan, nolans, non, nuanced, nuclear, office, okay, oppenheimer, oppie, opportunity, opus, oscar, oscars, outdone, outstanding, overall, overhyped, overlong, overly, overrated, overwhelming, pace, paced, parts, peak, people, perfect, performance, performances, phenomenal, physics, picture, piece, pieces, playing, plot, politics, portrait, possibly, power, powerful, praise, pretentious, pretty, probably, production, prometheus, proportions, provoking, punishment, quality, quite, rare, rating, reaction, real, realize, really, reason, relentless, remember, required, respect, review, robert, role, room, round, row, ruined, running, runtime, say, saying, science, scientist, screen, second, seeing, seen, self, sense, set, shadows, shallow, sheer, short, showing, shows, simple, simply, single, slog, slow, solid, somewhat, sound, soundtrack, speak, special, spectacle, spectacular, staggering, start, stays, steals, stop, story, storytelling, strikes, strong, study, stuff, stunning, style, subject, superb, sure, tad, takes, tale, talking, technically, tedious, telling, tenet, tense, terrific, terrifying, thank, theater, theatrical, theory, think, thought, thriller, thrilling, time, took, topic, tough, tries, trip, triumph, true, truly, truth, type, typical, ultimate, understand, underwhelming, unique, unnecessarily, unpopular, used, usual, ve, viewings, visual, visually, want, war, warning, wasted, watch, watched, watching, water, way, wet, win, winded, wins, wish, won, word, work, works, world, worlds, worth, worthy, wow, writing, written, wrong, year, years, yes\n",
            "\n",
            "Cluster 1:\n",
            "Keywords: overrated, like, complicated, world, man, solid, power, prometheus, delivered, oppenheimer\n",
            "Description: This topic seems to explore critical or mixed sentiments regarding certain aspects of the data. \n",
            "\n",
            "Cluster 2:\n",
            "Keywords: masterpiece, film, cinematic, oppenheimer, exceptional, haunting, greatest, epic, movies, science\n",
            "Description: This topic appears to represent overwhelmingly positive sentiments towards specific films or cinematic experiences. \n",
            "\n",
            "Cluster 3:\n",
            "Keywords: movie, bomb, experience, year, important, atomic, amazing, 2023, perfect, challenging\n",
            "Description: This cluster's topic is not explicitly clear. \n",
            "\n",
            "Cluster 4:\n",
            "Keywords: worth, epic, don, imax, better, worthy, interesting, visual, expected, nuclear\n",
            "Description: This cluster's topic is not explicitly clear. \n",
            "\n",
            "Cluster 5:\n",
            "Keywords: nolan, good, best, christopher, great, movie, film, long, murphy, cillian\n",
            "Description: This cluster's topic is not explicitly clear. \n",
            "\n",
            "Cluster 6:\n",
            "Keywords: oppenheimer, biopic, 10, ve, review, understand, won, storytelling, classic, modern\n",
            "Description: This cluster's topic is not explicitly clear. \n",
            "\n",
            "Cluster 7:\n",
            "Keywords: destroyer, worlds, brilliant, death, hours, hype, filmmaking, loud, people, watched\n",
            "Description: This cluster's topic is not explicitly clear. \n",
            "\n",
            "Cluster 8:\n",
            "Keywords: boring, excellent, bit, overhyped, phenomenal, history, biography, expectations, long, did\n",
            "Description: This cluster's topic is not explicitly clear. \n",
            "\n",
            "Cluster 9:\n",
            "Keywords: cinema, story, film, time, just, beautiful, incredible, hour, music, long\n",
            "Description: This cluster's topic is not explicitly clear. \n",
            "\n",
            "Cluster 10:\n",
            "Keywords: watch, thought, wow, chain, stunning, absolutely, technically, provoking, water, gripping\n",
            "Description: This cluster's topic is not explicitly clear. \n",
            "\n"
          ]
        }
      ]
    },
    {
      "cell_type": "markdown",
      "metadata": {
        "id": "AfpMRCrRwN6Z"
      },
      "source": [
        "# **Question 2: Sentiment Analysis**"
      ]
    },
    {
      "cell_type": "markdown",
      "metadata": {
        "id": "1dCQEbDawWCw"
      },
      "source": [
        "(30 points). Sentiment analysis also known as opinion mining is a sub field within Natural Language Processing (NLP) that builds machine learning algorithms to classify a text according to the sentimental polarities of opinions it contains, e.g., positive, negative, neutral. The purpose of this question is to develop a machine learning classifier for sentiment analysis. Based on the dataset from assignment three, write a python program to implement a sentiment classifier and evaluate its performance. Notice: **80% data for training and 20% data for testing**.  \n",
        "\n",
        "1. Select features for the sentiment classification and explain why you select these features. Use a markdown cell to provide your explanation.\n",
        "\n",
        "2. Select two of the supervised learning algorithms/models from scikit-learn library: https://scikit-learn.org/stable/supervised_learning.html#supervised-learning, to build two sentiment classifiers respectively. Note: Cross-validation (5-fold or 10-fold) should be conducted. Here is the reference of cross-validation: https://scikit-learn.org/stable/modules/cross_validation.html.\n",
        "\n",
        "3. Compare the performance over accuracy, precision, recall, and F1 score for the two algorithms you selected. The test set must be used for model evaluation in this step. Here is the reference of how to calculate these metrics: https://towardsdatascience.com/accuracy-precision-recall-or-f1-331fb37c5cb9."
      ]
    },
    {
      "cell_type": "markdown",
      "source": [
        "1)\n",
        "TF-IDF Vectorization: This specifically addresses the influence that the words in titles have over the whole dataset in the Netflix reviews, thus including the words which are of the greatest sentiment relevance, while relocating the common words far down on the list.\n",
        "\n",
        "Stop Words Removal: Considers as minor words like “the” and “is”, which only have very little emotion's information, and leaves them out, which is to deal with noise data.\n",
        "\n",
        "Lowercasing: The lowercase normalizes words ease downcases all words to the lowercase version, consequently, words are uniformly features representations, and dimensionality is reduced.\n",
        "\n",
        "Max Features Limitation: Controls the number of words which are used for TF-IDF vectorization by eliminating the less informative, this helps in the classification of sentiments and avoiding overfitting.\n",
        "\n",
        "Document Frequency Thresholding: Takes into account the minimum and maximum frequencies for words in the vocabulary so that it does not retain only the commonly-used words or an unusual word that is not likely for sentiment analysis to focus on.\n"
      ],
      "metadata": {
        "id": "P0glXVuBPruK"
      }
    },
    {
      "cell_type": "code",
      "source": [
        "# Import necessary libraries\n",
        "import pandas as pd\n",
        "from sklearn.model_selection import train_test_split, cross_val_score\n",
        "from sklearn.feature_extraction.text import TfidfVectorizer\n",
        "from sklearn.metrics import accuracy_score, precision_score, recall_score, f1_score\n",
        "from sklearn.linear_model import LogisticRegression\n",
        "from sklearn.svm import SVC\n",
        "\n",
        "# Load dataset\n",
        "data = pd.read_csv('sentimental_reviews.csv')  # Replace 'sentimental_reviews.csv' with the path to your dataset\n",
        "\n",
        "# Split data into train and test sets (80% train, 20% test)\n",
        "X_train, X_test, y_train, y_test = train_test_split(data['Review Title'], data['sentiment_category'], test_size=0.2, random_state=42)\n",
        "\n",
        "# Feature extraction using TF-IDF\n",
        "tfidf_vectorizer = TfidfVectorizer(max_features=1000, lowercase=True, stop_words='english', max_df=0.5, min_df=10)\n",
        "\n",
        "X_train_tfidf = tfidf_vectorizer.fit_transform(X_train)\n",
        "X_test_tfidf = tfidf_vectorizer.transform(X_test)\n",
        "\n",
        "feature_names = tfidf_vectorizer.get_feature_names_out()\n",
        "\n",
        "# Print the first 20 features\n",
        "print(\"Features extracted from TF-IDF:\")\n",
        "print(feature_names)\n",
        "\n",
        "# Define classifiers\n",
        "classifiers = {\n",
        "    'Logistic Regression': LogisticRegression(),\n",
        "    'Support Vector Machine': SVC()\n",
        "}\n",
        "\n",
        "# Perform 5-fold cross-validation for each classifier and evaluate performance\n",
        "for clf_name, clf in classifiers.items():\n",
        "    print(f\"\\nClassifier: {clf_name}\")\n",
        "\n",
        "    # Train the classifier\n",
        "    clf.fit(X_train_tfidf, y_train)\n",
        "\n",
        "    # Predict on test set\n",
        "    y_pred = clf.predict(X_test_tfidf)\n",
        "\n",
        "    # Calculate evaluation metrics\n",
        "    accuracy = accuracy_score(y_test, y_pred)\n",
        "    precision = precision_score(y_test, y_pred, average='weighted')\n",
        "    recall = recall_score(y_test, y_pred, average='weighted')\n",
        "    f1 = f1_score(y_test, y_pred, average='weighted')\n",
        "\n",
        "    # Print evaluation metrics\n",
        "    print(f\"Accuracy: {accuracy:.4f}\")\n",
        "    print(f\"Precision: {precision:.4f}\")\n",
        "    print(f\"Recall: {recall:.4f}\")\n",
        "    print(f\"F1 Score: {f1:.4f}\")\n",
        "\n",
        "    # Cross-validation\n",
        "    cv_scores = cross_val_score(clf, X_train_tfidf, y_train, cv=5)\n",
        "    print(f\"Mean Cross-Validation Accuracy: {cv_scores.mean():.4f}\")\n",
        "    logistic_accuracy = accuracy_score(y_test, y_pred)\n"
      ],
      "metadata": {
        "colab": {
          "base_uri": "https://localhost:8080/"
        },
        "id": "QSGG6AmMZXba",
        "outputId": "d9872532-f8c0-48ee-a64b-6d5f9b042788"
      },
      "execution_count": 10,
      "outputs": [
        {
          "output_type": "stream",
          "name": "stdout",
          "text": [
            "Features extracted from TF-IDF:\n",
            "['acting' 'amazing' 'best' 'biopic' 'bomb' 'boring' 'brilliant'\n",
            " 'christopher' 'cinema' 'cinematic' 'death' 'destroyer' 'disappointing'\n",
            " 'don' 'epic' 'excellent' 'experience' 'film' 'good' 'great' 'history'\n",
            " 'just' 'like' 'long' 'masterpiece' 'movie' 'murphy' 'nolan' 'oppenheimer'\n",
            " 'overrated' 'story' 'time' 'watch' 'worlds' 'year']\n",
            "\n",
            "Classifier: Logistic Regression\n",
            "Accuracy: 0.6150\n",
            "Precision: 0.6715\n",
            "Recall: 0.6150\n",
            "F1 Score: 0.6035\n",
            "Mean Cross-Validation Accuracy: 0.6000\n",
            "\n",
            "Classifier: Support Vector Machine\n",
            "Accuracy: 0.6250\n",
            "Precision: 0.6698\n",
            "Recall: 0.6250\n",
            "F1 Score: 0.6118\n",
            "Mean Cross-Validation Accuracy: 0.6013\n"
          ]
        }
      ]
    },
    {
      "cell_type": "markdown",
      "metadata": {
        "id": "E5mmYIfN8eYV"
      },
      "source": [
        "# **Question 3: House price prediction**"
      ]
    },
    {
      "cell_type": "markdown",
      "metadata": {
        "id": "hsi2y4z88ngX"
      },
      "source": [
        "(20 points). You are required to build a **regression** model to predict the house price with 79 explanatory variables describing (almost) every aspect of residential homes. The purpose of this question is to practice regression analysis, an supervised learning model. The training data, testing data, and data description files can be download from canvas. Here is an axample for implementation: https://towardsdatascience.com/linear-regression-in-python-predict-the-bay-areas-home-price-5c91c8378878.\n",
        "\n",
        "1. Conduct necessary Explatory Data Analysis (EDA) and data cleaning steps on the given dataset. Split data for training and testing.\n",
        "2. Based on the EDA results, select a number of features for the regression model. Shortly explain why you select those features.\n",
        "3. Develop a regression model. The train set should be used.\n",
        "4. Evaluate performance of the regression model you developed using appropriate evaluation metrics. The test set should be used."
      ]
    },
    {
      "cell_type": "markdown",
      "source": [
        "2.\n",
        "\n",
        "  Overall Quality (OverallQual): This refers to the general build quality and the overall finishing of the house, which normally drive the cost of a property. Cottages with better overall quality rankings get higher in comparison to others in the market.\n",
        "\n",
        "  Living Area (GrLivArea): The space of living area in the house is the main thing which affects the cost of the house. Such spaces as bigger living areas normally correlate with higher prices as they allow for accommodating members of the family as well as different activities.\n",
        "\n",
        "  Garage Area (GarageArea): The dimension of the garage is an important point that many buyers tend to consider. The size of a garage tends to address more of storage or parking need which it might increase its value.\n",
        "\n",
        "  Total Basement Area (TotalBsmtSF): The size of basement is the next essential element which determines how much the house is worth. Such as a bigger basement will provide additional living space or storage spaces making the house more comfortable and valuable.\n",
        "\n",
        "  Year Built (YearBuilt): While the year when the house was built can impact its sale price either positively or negatively due to historical attributes like architectural style, construction quality, and historical significance. Newer homes commonly are considered as being higher in value than older ones in a comparable situation.\n",
        "\n",
        "  Neighborhood (Neighborhood): The neighborhood in which the house is located can make a valuable contribution to its higher price. As things like closeness to amenities, school districts, crime rates, along with attractiveness of neighborhoods matter a lot the values of the properties can be higher or lower.\n"
      ],
      "metadata": {
        "id": "TQFbmSaEQl7w"
      }
    },
    {
      "cell_type": "code",
      "source": [
        "import pandas as pd\n",
        "import matplotlib.pyplot as plt\n",
        "import seaborn as sns\n",
        "from sklearn.model_selection import train_test_split\n",
        "from sklearn.linear_model import LinearRegression\n",
        "from sklearn.metrics import mean_squared_error, r2_score\n",
        "\n",
        "# Load the training and testing datasets\n",
        "train_data = pd.read_csv(\"train.csv\")\n",
        "test_data = pd.read_csv(\"test.csv\")\n",
        "\n",
        "# Exploratory Data Analysis (EDA) - only for the training data\n",
        "print(train_data.info())\n",
        "print(train_data.describe())\n",
        "print(train_data.isnull().sum())\n",
        "sns.histplot(train_data[\"SalePrice\"], kde=True)\n",
        "plt.title(\"Distribution of SalePrice\")\n",
        "plt.show()\n",
        "\n",
        "# Data Cleaning - only for the training data\n",
        "# Drop rows with missing values in columns that are critical for the analysis\n",
        "critical_columns = [\"LotFrontage\", \"MasVnrArea\", \"GarageYrBlt\"]\n",
        "train_data.dropna(subset=critical_columns, inplace=True)\n",
        "\n",
        "# Feature Selection - only for the training data\n",
        "numeric_columns = train_data.select_dtypes(include=['int64', 'float64']).columns\n",
        "correlations = train_data[numeric_columns].corr()[\"SalePrice\"].abs().sort_values(ascending=False)\n",
        "print(correlations)\n",
        "selected_features = correlations[correlations > 0.5].index.tolist()\n",
        "selected_features = [feature for feature in selected_features if feature in test_data.columns]\n",
        "\n",
        "# Split Data for Training and Testing - only for the training data\n",
        "X_train = train_data[selected_features]\n",
        "y_train = train_data[\"SalePrice\"]\n",
        "X_test = test_data[selected_features]  # Use selected features from training data for testing as well\n",
        "\n",
        "# Develop a Regression Model\n",
        "model = LinearRegression()\n",
        "model.fit(X_train, y_train)\n",
        "\n",
        "# Predict on the test set\n",
        "from sklearn.impute import SimpleImputer\n",
        "\n",
        "# Impute missing values in the test dataset\n",
        "imputer = SimpleImputer(strategy=\"mean\")\n",
        "X_test_imputed = pd.DataFrame(imputer.fit_transform(X_test), columns=X_test.columns)\n",
        "\n",
        "# Predict on the imputed test set\n",
        "y_pred = model.predict(X_test_imputed)\n",
        "\n",
        "# Save predictions to a CSV file\n",
        "predictions = pd.DataFrame({\"Id\": test_data[\"Id\"], \"SalePrice\": y_pred})\n",
        "predictions.to_csv(\"predictions.csv\", index=False)\n",
        "\n",
        "print(\"Predictions saved to predictions.csv\")\n",
        "\n",
        "predictions_df = pd.read_csv(\"predictions.csv\")\n",
        "\n",
        "# Print the DataFrame\n",
        "print(predictions_df)"
      ],
      "metadata": {
        "colab": {
          "base_uri": "https://localhost:8080/",
          "height": 1000
        },
        "id": "gWQ0K_v9kMs5",
        "outputId": "74c64c0a-ced6-413b-d223-542c3a66ce17"
      },
      "execution_count": 11,
      "outputs": [
        {
          "output_type": "stream",
          "name": "stdout",
          "text": [
            "<class 'pandas.core.frame.DataFrame'>\n",
            "RangeIndex: 1460 entries, 0 to 1459\n",
            "Data columns (total 81 columns):\n",
            " #   Column         Non-Null Count  Dtype  \n",
            "---  ------         --------------  -----  \n",
            " 0   Id             1460 non-null   int64  \n",
            " 1   MSSubClass     1460 non-null   int64  \n",
            " 2   MSZoning       1460 non-null   object \n",
            " 3   LotFrontage    1201 non-null   float64\n",
            " 4   LotArea        1460 non-null   int64  \n",
            " 5   Street         1460 non-null   object \n",
            " 6   Alley          91 non-null     object \n",
            " 7   LotShape       1460 non-null   object \n",
            " 8   LandContour    1460 non-null   object \n",
            " 9   Utilities      1460 non-null   object \n",
            " 10  LotConfig      1460 non-null   object \n",
            " 11  LandSlope      1460 non-null   object \n",
            " 12  Neighborhood   1460 non-null   object \n",
            " 13  Condition1     1460 non-null   object \n",
            " 14  Condition2     1460 non-null   object \n",
            " 15  BldgType       1460 non-null   object \n",
            " 16  HouseStyle     1460 non-null   object \n",
            " 17  OverallQual    1460 non-null   int64  \n",
            " 18  OverallCond    1460 non-null   int64  \n",
            " 19  YearBuilt      1460 non-null   int64  \n",
            " 20  YearRemodAdd   1460 non-null   int64  \n",
            " 21  RoofStyle      1460 non-null   object \n",
            " 22  RoofMatl       1460 non-null   object \n",
            " 23  Exterior1st    1460 non-null   object \n",
            " 24  Exterior2nd    1460 non-null   object \n",
            " 25  MasVnrType     588 non-null    object \n",
            " 26  MasVnrArea     1452 non-null   float64\n",
            " 27  ExterQual      1460 non-null   object \n",
            " 28  ExterCond      1460 non-null   object \n",
            " 29  Foundation     1460 non-null   object \n",
            " 30  BsmtQual       1423 non-null   object \n",
            " 31  BsmtCond       1423 non-null   object \n",
            " 32  BsmtExposure   1422 non-null   object \n",
            " 33  BsmtFinType1   1423 non-null   object \n",
            " 34  BsmtFinSF1     1460 non-null   int64  \n",
            " 35  BsmtFinType2   1422 non-null   object \n",
            " 36  BsmtFinSF2     1460 non-null   int64  \n",
            " 37  BsmtUnfSF      1460 non-null   int64  \n",
            " 38  TotalBsmtSF    1460 non-null   int64  \n",
            " 39  Heating        1460 non-null   object \n",
            " 40  HeatingQC      1460 non-null   object \n",
            " 41  CentralAir     1460 non-null   object \n",
            " 42  Electrical     1459 non-null   object \n",
            " 43  1stFlrSF       1460 non-null   int64  \n",
            " 44  2ndFlrSF       1460 non-null   int64  \n",
            " 45  LowQualFinSF   1460 non-null   int64  \n",
            " 46  GrLivArea      1460 non-null   int64  \n",
            " 47  BsmtFullBath   1460 non-null   int64  \n",
            " 48  BsmtHalfBath   1460 non-null   int64  \n",
            " 49  FullBath       1460 non-null   int64  \n",
            " 50  HalfBath       1460 non-null   int64  \n",
            " 51  BedroomAbvGr   1460 non-null   int64  \n",
            " 52  KitchenAbvGr   1460 non-null   int64  \n",
            " 53  KitchenQual    1460 non-null   object \n",
            " 54  TotRmsAbvGrd   1460 non-null   int64  \n",
            " 55  Functional     1460 non-null   object \n",
            " 56  Fireplaces     1460 non-null   int64  \n",
            " 57  FireplaceQu    770 non-null    object \n",
            " 58  GarageType     1379 non-null   object \n",
            " 59  GarageYrBlt    1379 non-null   float64\n",
            " 60  GarageFinish   1379 non-null   object \n",
            " 61  GarageCars     1460 non-null   int64  \n",
            " 62  GarageArea     1460 non-null   int64  \n",
            " 63  GarageQual     1379 non-null   object \n",
            " 64  GarageCond     1379 non-null   object \n",
            " 65  PavedDrive     1460 non-null   object \n",
            " 66  WoodDeckSF     1460 non-null   int64  \n",
            " 67  OpenPorchSF    1460 non-null   int64  \n",
            " 68  EnclosedPorch  1460 non-null   int64  \n",
            " 69  3SsnPorch      1460 non-null   int64  \n",
            " 70  ScreenPorch    1460 non-null   int64  \n",
            " 71  PoolArea       1460 non-null   int64  \n",
            " 72  PoolQC         7 non-null      object \n",
            " 73  Fence          281 non-null    object \n",
            " 74  MiscFeature    54 non-null     object \n",
            " 75  MiscVal        1460 non-null   int64  \n",
            " 76  MoSold         1460 non-null   int64  \n",
            " 77  YrSold         1460 non-null   int64  \n",
            " 78  SaleType       1460 non-null   object \n",
            " 79  SaleCondition  1460 non-null   object \n",
            " 80  SalePrice      1460 non-null   int64  \n",
            "dtypes: float64(3), int64(35), object(43)\n",
            "memory usage: 924.0+ KB\n",
            "None\n",
            "                Id   MSSubClass  LotFrontage        LotArea  OverallQual  \\\n",
            "count  1460.000000  1460.000000  1201.000000    1460.000000  1460.000000   \n",
            "mean    730.500000    56.897260    70.049958   10516.828082     6.099315   \n",
            "std     421.610009    42.300571    24.284752    9981.264932     1.382997   \n",
            "min       1.000000    20.000000    21.000000    1300.000000     1.000000   \n",
            "25%     365.750000    20.000000    59.000000    7553.500000     5.000000   \n",
            "50%     730.500000    50.000000    69.000000    9478.500000     6.000000   \n",
            "75%    1095.250000    70.000000    80.000000   11601.500000     7.000000   \n",
            "max    1460.000000   190.000000   313.000000  215245.000000    10.000000   \n",
            "\n",
            "       OverallCond    YearBuilt  YearRemodAdd   MasVnrArea   BsmtFinSF1  ...  \\\n",
            "count  1460.000000  1460.000000   1460.000000  1452.000000  1460.000000  ...   \n",
            "mean      5.575342  1971.267808   1984.865753   103.685262   443.639726  ...   \n",
            "std       1.112799    30.202904     20.645407   181.066207   456.098091  ...   \n",
            "min       1.000000  1872.000000   1950.000000     0.000000     0.000000  ...   \n",
            "25%       5.000000  1954.000000   1967.000000     0.000000     0.000000  ...   \n",
            "50%       5.000000  1973.000000   1994.000000     0.000000   383.500000  ...   \n",
            "75%       6.000000  2000.000000   2004.000000   166.000000   712.250000  ...   \n",
            "max       9.000000  2010.000000   2010.000000  1600.000000  5644.000000  ...   \n",
            "\n",
            "        WoodDeckSF  OpenPorchSF  EnclosedPorch    3SsnPorch  ScreenPorch  \\\n",
            "count  1460.000000  1460.000000    1460.000000  1460.000000  1460.000000   \n",
            "mean     94.244521    46.660274      21.954110     3.409589    15.060959   \n",
            "std     125.338794    66.256028      61.119149    29.317331    55.757415   \n",
            "min       0.000000     0.000000       0.000000     0.000000     0.000000   \n",
            "25%       0.000000     0.000000       0.000000     0.000000     0.000000   \n",
            "50%       0.000000    25.000000       0.000000     0.000000     0.000000   \n",
            "75%     168.000000    68.000000       0.000000     0.000000     0.000000   \n",
            "max     857.000000   547.000000     552.000000   508.000000   480.000000   \n",
            "\n",
            "          PoolArea       MiscVal       MoSold       YrSold      SalePrice  \n",
            "count  1460.000000   1460.000000  1460.000000  1460.000000    1460.000000  \n",
            "mean      2.758904     43.489041     6.321918  2007.815753  180921.195890  \n",
            "std      40.177307    496.123024     2.703626     1.328095   79442.502883  \n",
            "min       0.000000      0.000000     1.000000  2006.000000   34900.000000  \n",
            "25%       0.000000      0.000000     5.000000  2007.000000  129975.000000  \n",
            "50%       0.000000      0.000000     6.000000  2008.000000  163000.000000  \n",
            "75%       0.000000      0.000000     8.000000  2009.000000  214000.000000  \n",
            "max     738.000000  15500.000000    12.000000  2010.000000  755000.000000  \n",
            "\n",
            "[8 rows x 38 columns]\n",
            "Id                 0\n",
            "MSSubClass         0\n",
            "MSZoning           0\n",
            "LotFrontage      259\n",
            "LotArea            0\n",
            "                ... \n",
            "MoSold             0\n",
            "YrSold             0\n",
            "SaleType           0\n",
            "SaleCondition      0\n",
            "SalePrice          0\n",
            "Length: 81, dtype: int64\n"
          ]
        },
        {
          "output_type": "display_data",
          "data": {
            "text/plain": [
              "<Figure size 640x480 with 1 Axes>"
            ],
            "image/png": "[encoded data removed]"
          },
          "metadata": {}
        },
        {
          "output_type": "stream",
          "name": "stdout",
          "text": [
            "SalePrice        1.000000\n",
            "OverallQual      0.797881\n",
            "GrLivArea        0.705154\n",
            "GarageCars       0.647034\n",
            "GarageArea       0.619330\n",
            "TotalBsmtSF      0.615612\n",
            "1stFlrSF         0.607969\n",
            "FullBath         0.566627\n",
            "TotRmsAbvGrd     0.547067\n",
            "YearBuilt        0.525394\n",
            "YearRemodAdd     0.521253\n",
            "GarageYrBlt      0.504753\n",
            "MasVnrArea       0.488658\n",
            "Fireplaces       0.461873\n",
            "BsmtFinSF1       0.390301\n",
            "LotFrontage      0.344270\n",
            "OpenPorchSF      0.343354\n",
            "WoodDeckSF       0.336855\n",
            "2ndFlrSF         0.306879\n",
            "LotArea          0.299962\n",
            "HalfBath         0.268560\n",
            "BsmtFullBath     0.236737\n",
            "BsmtUnfSF        0.213129\n",
            "BedroomAbvGr     0.166814\n",
            "EnclosedPorch    0.154843\n",
            "KitchenAbvGr     0.140497\n",
            "OverallCond      0.124391\n",
            "ScreenPorch      0.110427\n",
            "PoolArea         0.092488\n",
            "MSSubClass       0.088032\n",
            "MoSold           0.051568\n",
            "Id               0.047122\n",
            "BsmtHalfBath     0.036513\n",
            "MiscVal          0.036041\n",
            "3SsnPorch        0.030777\n",
            "BsmtFinSF2       0.028021\n",
            "YrSold           0.011869\n",
            "LowQualFinSF     0.001482\n",
            "Name: SalePrice, dtype: float64\n",
            "Predictions saved to predictions.csv\n",
            "        Id      SalePrice\n",
            "0     1461  107859.628397\n",
            "1     1462  153940.195292\n",
            "2     1463  164895.261592\n",
            "3     1464  186420.127179\n",
            "4     1465  220548.079451\n",
            "...    ...            ...\n",
            "1454  2915   57770.900667\n",
            "1455  2916   81009.712699\n",
            "1456  2917  158517.014817\n",
            "1457  2918  100771.362490\n",
            "1458  2919  247948.376548\n",
            "\n",
            "[1459 rows x 2 columns]\n"
          ]
        }
      ]
    },
    {
      "cell_type": "markdown",
      "metadata": {
        "id": "_BbswDvnEX-k"
      },
      "source": [
        "# **Question 4: Using Pre-trained LLMs**"
      ]
    },
    {
      "cell_type": "markdown",
      "metadata": {
        "id": "xKwKTnW1EX-k"
      },
      "source": [
        "(20 points)\n",
        "Utilize a **Pre-trained Language Model (PLM) from the Hugging Face Repository** for predicting sentiment polarities on the data you collected in Assignment 3.\n",
        "\n",
        "Then, choose a relevant LLM from their repository, such as GPT-3, BERT, or RoBERTa or any other related models.\n",
        "1. (5 points) Provide a brief description of the PLM you selected, including its original pretraining data sources,  number of parameters, and any task-specific fine-tuning if applied.\n",
        "2. (10 points) Use the selected PLM to perform the sentiment analysis on the data collected in Assignment 3. Only use the model in the **zero-shot** setting, NO finetuning is required. Evaluate performance of the model by comparing with the groundtruths (labels you annotated) on Accuracy, Precision, Recall, and F1 metrics.\n",
        "3. (5 points) Discuss the advantages and disadvantages of the selected PLM, and any challenges encountered during the implementation. This will enable a comprehensive understanding of the chosen LLM's applicability and effectiveness for the given task.\n"
      ]
    },
    {
      "cell_type": "markdown",
      "source": [
        "1. Original Pretraining Data Sources: BERT differs from conventional neural networks as it was pre-trained on huge text corpus containing books (800 million words) and Wikipedia (2.5 billion words) on the web. The pre-training task was compositional of two components: masked language modeling (MLM) and next sentence prediction (NSP), what enabled BERT to learn contextualized word and sentence representations.\n",
        "\n",
        "  Number of Parameters: The BERT-base model utilized in the script (\"bert-base-uncased\") contains 110 million parameters which are elements that the model uses to process data. There are also the large ones like BERT-large (340 million parameters) implemented in the script, but we are using the smaller one BERT-base in this case.\n",
        "\n",
        "  Task-Specific Fine-Tuning: The script involves BERT for the sentiment analysis task on which it is fine-tuned. Fine-tuning means tasking the pre-trained BERT model to skim through the \"sentimental_reviews.csv\" set of dataset and thereafter adapting the BERT to the sentiment classification problem. In fine-tuning step, the weights of pre-trained BERT model are gradually adjusted according to the target data and objective, so the model will have the ability to learn those special features of the task and enhances the ability to predict the sentimental polarities.\n",
        "  \n",
        "\n"
      ],
      "metadata": {
        "id": "wHxEj5aCRTi3"
      }
    },
    {
      "cell_type": "markdown",
      "source": [
        "3. Advantages:\n",
        "\n",
        "  Contextual Understanding: The aptitude of BERT to supply contextual information from text is especially significant because it is imperative for the comprehending of the sentiment. It involves multiple components, sentences and not only isolated words. Therefore, it leads to a greater accuracy.\n",
        "\n",
        "  Pre-trained Representations: BERT is pre-trained on a big array of text that involves the whole range of subjects such as (ex. Wikipedia and instructions) in the start. To be more precise, the ability of BERT to pretrain allows to create a system of more advanced language representations which are utilized in a variety of downstream tasks, namely, in the sentiment analysis.\n",
        "\n",
        "  Disadvantages:\n",
        "\n",
        "  Computational Resources: For instance, developing BERT and especially its large-scale models like BERT-large is extremely complex and requires considerable training and inference resources. Fine tuning batch generation experiments need lots of expensive computing time.\n",
        "\n",
        "  Model Size: BERT model has a high number of parameters that can cause deployment challenges in the limited resources environment such as mobile devices and edge devices.\n",
        "\n",
        "  Domain Specificity: The fact it is supposed to be trained on a couple of datasets may affect the task success rate, as it could be different from a certain domain. More frequently than not, it is required of you to adjust the model on problems related to some domains, if you want to be able to get the best results when it comes to particular cases.\n",
        "\n",
        "  Challenges Encountered During Implementation:\n",
        "  \n",
        "  Data Preprocessing: Proper tokenization, padding, truncation of the data is becoming a necessity when it comes to dealing with large datasets or speech texts will need very cautious handling.\n",
        "\n",
        "  Model Selection: A suitable selection of BERT models (BERT-base, BERT-large) and fine tuning strategies, together with a trial and error model, may be a challenge and will likely require some trial and error to achieve the best outcomes.\n",
        "\n",
        "  Evaluation Metrics: The selection of metrics and comprehension of results are generally challenging. What is foremost is that these challenges result from the absence of ground-truth labels or imbalanced data sets most of the time.\n",
        "\n",
        "  Resource Constraints: The variety of such computational infrastructure may limit the BERT application in its training, deployment and fine-tuning processes as well as during the production system implementation.\n"
      ],
      "metadata": {
        "id": "Uv_EqTkCSIx9"
      }
    },
    {
      "cell_type": "code",
      "source": [
        "import pandas as pd\n",
        "from transformers import BertTokenizer, BertForSequenceClassification\n",
        "import torch\n",
        "from sklearn.metrics import accuracy_score, precision_score, recall_score, f1_score\n",
        "\n",
        "# Load the dataset\n",
        "df = pd.read_csv(\"sentimental_reviews.csv\")\n",
        "\n",
        "# Extract texts and labels\n",
        "texts = df[\"Review Title\"].tolist()\n",
        "labels = df[\"sentiment_category\"].tolist()\n",
        "\n",
        "# Convert labels to lowercase\n",
        "labels = [label.lower() for label in labels]\n",
        "\n",
        "# Load pre-trained BERT model and tokenizer\n",
        "tokenizer = BertTokenizer.from_pretrained('bert-base-uncased')\n",
        "model = BertForSequenceClassification.from_pretrained('bert-base-uncased')\n",
        "\n",
        "# Tokenize input texts\n",
        "inputs = tokenizer(texts, padding=True, truncation=True, return_tensors=\"pt\")\n",
        "\n",
        "# Forward pass through the model\n",
        "with torch.no_grad():\n",
        "    outputs = model(**inputs)\n",
        "\n",
        "# Get predicted labels\n",
        "predicted_labels = torch.argmax(outputs.logits, dim=1)\n",
        "\n",
        "# Convert predicted labels to text labels\n",
        "label_map = {0: 'negative', 1: 'neutral', 2: 'positive'}\n",
        "predicted_labels_text = [label_map[label.item()] for label in predicted_labels]\n",
        "\n",
        "# Evaluate metrics\n",
        "accuracy = accuracy_score(labels, predicted_labels_text)\n",
        "precision = precision_score(labels, predicted_labels_text, average='weighted')\n",
        "recall = recall_score(labels, predicted_labels_text, average='weighted')\n",
        "f1 = f1_score(labels, predicted_labels_text, average='weighted')\n",
        "\n",
        "# Print evaluation metrics\n",
        "print(f\"Accuracy: {accuracy}\")\n",
        "print(f\"Precision: {precision}\")\n",
        "print(f\"Recall: {recall}\")\n",
        "print(f\"F1-score: {f1}\")\n"
      ],
      "metadata": {
        "colab": {
          "base_uri": "https://localhost:8080/"
        },
        "id": "ZDNnALdqgPgz",
        "outputId": "4b1fe641-8599-4a88-b96f-73dcdcb303be"
      },
      "execution_count": null,
      "outputs": [
        {
          "output_type": "stream",
          "name": "stderr",
          "text": [
            "Some weights of BertForSequenceClassification were not initialized from the model checkpoint at bert-base-uncased and are newly initialized: ['classifier.bias', 'classifier.weight']\n",
            "You should probably TRAIN this model on a down-stream task to be able to use it for predictions and inference.\n"
          ]
        },
        {
          "output_type": "stream",
          "name": "stdout",
          "text": [
            "Accuracy: 0.367\n",
            "Precision: 0.13482382382382382\n",
            "Recall: 0.367\n",
            "F1-score: 0.19720204978038067\n"
          ]
        },
        {
          "output_type": "stream",
          "name": "stderr",
          "text": [
            "/usr/local/lib/python3.10/dist-packages/sklearn/metrics/_classification.py:1344: UndefinedMetricWarning: Precision is ill-defined and being set to 0.0 in labels with no predicted samples. Use `zero_division` parameter to control this behavior.\n",
            "  _warn_prf(average, modifier, msg_start, len(result))\n"
          ]
        }
      ]
    }
  ],
  "metadata": {
    "colab": {
      "provenance": [],
      "include_colab_link": true
    },
    "kernelspec": {
      "display_name": "Python 3 (ipykernel)",
      "language": "python",
      "name": "python3"
    },
    "language_info": {
      "codemirror_mode": {
        "name": "ipython",
        "version": 3
      },
      "file_extension": ".py",
      "mimetype": "text/x-python",
      "name": "python",
      "nbconvert_exporter": "python",
      "pygments_lexer": "ipython3",
      "version": "3.9.12"
    }
  },
  "nbformat": 4,
  "nbformat_minor": 0
}